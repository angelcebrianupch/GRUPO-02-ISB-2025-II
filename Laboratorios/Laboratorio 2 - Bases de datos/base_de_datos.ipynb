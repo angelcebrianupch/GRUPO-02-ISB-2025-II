{
 "cells": [
  {
   "cell_type": "markdown",
   "id": "33dee48c",
   "metadata": {},
   "source": [
    "## BASE DE DATOS DE EMG"
   ]
  },
  {
   "cell_type": "code",
   "execution_count": null,
   "id": "30b97845",
   "metadata": {
    "vscode": {
     "languageId": "plaintext"
    }
   },
   "outputs": [],
   "source": []
  }
 ],
 "metadata": {
  "language_info": {
   "name": "python"
  }
 },
 "nbformat": 4,
 "nbformat_minor": 5
}
