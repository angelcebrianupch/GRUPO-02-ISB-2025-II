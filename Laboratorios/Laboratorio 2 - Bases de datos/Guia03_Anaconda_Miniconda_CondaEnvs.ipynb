# === Conda Quickstart con Python 3.12 ===

# 1) Ver versión de conda
!conda --version

# 2) Actualizar conda
!conda update -n base -c defaults conda -y

# 3) Crear entorno con Python 3.12
!conda create -n lab-312 python=3.12 -y

# 4) Instalar librerías comunes
!conda install -n lab-312 numpy pandas matplotlib scikit-learn jupyterlab -y

# 5) Registrar kernel para Jupyter
!conda run -n lab-312 python -m ipykernel install --user --name lab-312 --display-name "Python (lab-312)"

# 6) Probar entorno en Python (usando el intérprete actual)
import sys, numpy as np, pandas as pd
print("Python executable:", sys.executable)
print("Python version:", sys.version)
print("numpy version:", np.__version__)
print("pandas version:", pd.__version__)

# 7) Exportar entorno a YAML
!conda env export -n lab-312 --from-history > environment.yml

# 8) (Opcional) Recrear entorno desde YAML
!conda env create -n lab-312-copy -f environment.yml

# 9) Listar entornos disponibles
!conda env list
