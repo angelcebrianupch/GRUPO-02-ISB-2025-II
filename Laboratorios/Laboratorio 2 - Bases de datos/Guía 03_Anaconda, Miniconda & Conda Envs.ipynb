# Conda Environments Quick Guide (Interactive Notebook)

# --- 1. Check Conda installation ---
!conda --version

# --- 2. Update Conda (safe) ---
!conda update -n base -c defaults conda -y

# --- 3. Create a new environment (Python 3.11 example) ---
!conda create -n lab-312 python=3.12 -y

# --- 4. Activate environment (note: in notebooks use magic instead) ---
# In terminal you would run: conda activate lab-312
# In notebook we simulate activation by prefixing commands with conda run:
!conda run -n lab-312 python --version

# --- 5. Install common packages ---
!conda install -n lab-312 numpy pandas jupyterlab matplotlib scikit-learn -y

# --- 6. Register environment as Jupyter kernel ---
!conda run -n lab-312 python -m ipykernel install --user --name lab-312 --display-name "Python (lab-312)"

# --- 7. Test installed packages ---
import sys, numpy as np, pandas as pd
print("Python executable:", sys.executable)
print("numpy version:", np.__version__)
print("pandas version:", pd.__version__)

# --- 8. Export environment (minimal history-based) ---
!conda env export -n lab-312 --from-history > environment.yml

# --- 9. (Optional) Recreate env from YAML ---
!conda env create -n lab-312-copy -f environment.yml

# --- 10. List all environments ---
!conda env list
