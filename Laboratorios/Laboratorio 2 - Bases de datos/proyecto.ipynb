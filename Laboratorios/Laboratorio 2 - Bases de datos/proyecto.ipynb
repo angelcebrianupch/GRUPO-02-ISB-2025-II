{
 "cells": [
  {
   "cell_type": "markdown",
   "id": "3214db25",
   "metadata": {},
   "source": [
    "# ✨ Bases de Datos EMG - Grupo 02\n",
    "\n",
    "---\n",
    "\n",
    "## 📌 Tema del Proyecto\n",
    "**Hand Gesture Recognition with EMG Signals**\n",
    "\n",
    "---\n",
    "\n",
    "## ⚠️ Problemática  \n",
    "Los pacientes que han sufrido un **ictus** enfrentan serias dificultades para recuperar el control motor fino de sus manos.  \n",
    "Una herramienta que permita **monitorear la recuperación motora** mediante el reconocimiento de gestos con señales EMG sería de gran utilidad.  \n",
    "\n",
    "Actualmente, los sistemas disponibles son:  \n",
    "- 💰 **Costosos**  \n",
    "- ⚙️ **Complejos de implementar**  \n",
    "- 🚫 **Poco accesibles en contextos clínicos comunes**  \n",
    "\n",
    "---\n",
    "\n",
    "## 💡 Propuesta de Solución  \n",
    "✅ Recopilar señales **EMG** desde los músculos del antebrazo.  \n",
    "✅ Entrenar un **clasificador supervisado** (*KNN, SVM, etc.*).  \n",
    "✅ Reconocer entre **3 y 5 gestos sencillos de la mano** para su aplicación en rehabilitación.  \n",
    "\n",
    "---\n",
    "\n",
    "## 🎯 Objetivos de esta Sección (Bases de Datos)\n",
    "\n",
    "📂 **Explorar** repositorios públicos con señales EMG.  \n",
    "📊 **Comparar** sus características principales (frecuencia de muestreo, número de sujetos, cantidad de gestos).  \n",
    "🔎 **Seleccionar** el dataset más adecuado para entrenar y validar el clasificador.  \n",
    "\n",
    "---\n",
    "\n",
    "## 📑 Estructura esperada de cada Dataset\n",
    "\n",
    "Cada dataset será presentado con la siguiente información:  \n",
    "\n",
    "- 📌 **Nombre / Título**  \n",
    "- 📝 **Descripción breve**  \n",
    "- 📊 **Características principales**  \n",
    "  - Frecuencia de muestreo  \n",
    "  - Número de sujetos  \n",
    "  - Número de gestos  \n",
    "  - Duración de las señales  \n",
    "- 🔗 **Enlace de acceso directo**  \n",
    "\n",
    "---\n",
    "\n",
    "👉 Usa el **índice lateral** del notebook para navegar rápidamente entre los distintos datasets revisados.\n"
   ]
  }
 ],
 "metadata": {
  "language_info": {
   "name": "python"
  }
 },
 "nbformat": 4,
 "nbformat_minor": 5
}
