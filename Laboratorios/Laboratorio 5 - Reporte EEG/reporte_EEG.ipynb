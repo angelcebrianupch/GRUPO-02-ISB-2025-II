{
 "cells": [
  {
   "cell_type": "code",
   "execution_count": null,
   "id": "2dd2f86a",
   "metadata": {
    "vscode": {
     "languageId": "plaintext"
    }
   },
   "outputs": [],
   "source": []
  },
  {
   "cell_type": "code",
   "execution_count": null,
   "id": "a210f5a7",
   "metadata": {
    "vscode": {
     "languageId": "plaintext"
    }
   },
   "outputs": [],
   "source": [
    "import numpy as np\n",
    "import matplotlib.pyplot as plt\n",
    "\n",
    "# --- 1. CONFIGURACIÓN ---\n",
    "FILE_NAME = \"lab5.txt\"\n",
    "FS = 1000  # Frecuencia de muestreo en Hz\n",
    "HEADER_LINES = 70 # Número de líneas de cabecera a saltar (hasta EndOfHeader)\n",
    "\n",
    "# Definición de los segmentos de tiempo en segundos\n",
    "SEGMENTS = [\n",
    "    (0, 1 * 60),    # 0 a 60 segundos\n",
    "    (1 * 60, 2 * 60), # 60 a 120 segundos\n",
    "    (2 * 60, 4 * 60), # 120 a 240 segundos\n",
    "    (4 * 60, 6 * 60), # 240 a 360 segundos\n",
    "    (6 * 60, None)    # 360 segundos hasta el final\n",
    "]\n",
    "\n",
    "# --- 2. CARGAR Y PROCESAR DATOS ---\n",
    "try:\n",
    "    # Usamos skiprows para saltar la cabecera completa. \n",
    "    # La columna 5 (índice 5) corresponde a la señal 'A4'.\n",
    "    data_signal = np.loadtxt(FILE_NAME, skiprows=HEADER_LINES)[:, 5]\n",
    "except Exception as e:\n",
    "    print(f\"Error al cargar el archivo: {e}\")\n",
    "    print(\"Asegúrate de que 'lab5.txt' esté en el mismo directorio.\")\n",
    "    exit()\n",
    "\n",
    "# Crear el vector de tiempo (t) para todo el dataset\n",
    "t_full = np.arange(len(data_signal)) / FS\n",
    "\n",
    "print(f\"Datos cargados. Total de muestras: {len(data_signal)}\")\n",
    "\n",
    "# --- 3. GRAFICACIÓN POR SEGMENTOS ---\n",
    "# Creamos una figura con 5 subplots apilados\n",
    "fig, axes = plt.subplots(5, 1, figsize=(14, 15), sharex=False)\n",
    "\n",
    "for i, (start_time, end_time) in enumerate(SEGMENTS):\n",
    "    # Convertir tiempo a índices de muestra (muestra de inicio y fin)\n",
    "    start_sample = start_time * FS\n",
    "    \n",
    "    if end_time is not None:\n",
    "        end_sample = end_time * FS\n",
    "        segment_label = f\"{start_time//60} min a {end_time//60} min\"\n",
    "    else:\n",
    "        # Si end_time es None, va hasta el final de los datos\n",
    "        end_sample = len(data_signal)\n",
    "        segment_label = f\"{start_time//60} min al Final\"\n",
    "\n",
    "    # Extraer el segmento de tiempo y el segmento de señal usando slicing de NumPy\n",
    "    t_segment = t_full[start_sample:end_sample]\n",
    "    signal_segment = data_signal[start_sample:end_sample]\n",
    "\n",
    "    # Ajuste para que el tiempo del segmento empiece en 0 si lo desea,\n",
    "    # pero es mejor mantener el tiempo absoluto para referencia.\n",
    "    # Si quieres que empiece en 0: t_segment = t_segment - t_segment[0] \n",
    "\n",
    "    # Graficar en el subplot correspondiente\n",
    "    ax = axes[i]\n",
    "    ax.plot(t_segment, signal_segment, linewidth=1, color='darkblue')\n",
    "    \n",
    "    # Configuración de los ejes\n",
    "    ax.set_title(f\"Segmento {i+1}: {segment_label} (Muestras: {len(signal_segment)})\", \n",
    "                 fontsize=14, fontweight=\"bold\")\n",
    "    ax.set_xlabel(\"Tiempo [s]\")\n",
    "    ax.set_ylabel(\"Amplitud [unidades]\") # Las unidades dependen del sensor (A4)\n",
    "    ax.grid(True, linestyle=\"--\", alpha=0.7)\n",
    "\n",
    "# Mejorar el espaciado entre subplots\n",
    "plt.tight_layout()\n",
    "plt.show()"
   ]
  }
 ],
 "metadata": {
  "language_info": {
   "name": "python"
  }
 },
 "nbformat": 4,
 "nbformat_minor": 5
}
